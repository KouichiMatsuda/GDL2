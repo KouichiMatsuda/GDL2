{
  "cells": [
    {
      "cell_type": "markdown",
      "id": "b076bd1a-b236-4fbc-953d-8295b25122ae",
      "metadata": {
        "id": "b076bd1a-b236-4fbc-953d-8295b25122ae"
      },
      "source": [
        "# 🥙 LSTM on Recipe Data"
      ]
    },
    {
      "cell_type": "markdown",
      "id": "658a95da-9645-4bcf-bd9d-4b95a4b6f582",
      "metadata": {
        "id": "658a95da-9645-4bcf-bd9d-4b95a4b6f582"
      },
      "source": [
        "In this notebook, we'll walk through the steps required to train your own LSTM on the recipes dataset"
      ]
    },
    {
      "cell_type": "markdown",
      "source": [
        "[![Open In Colab](https://colab.research.google.com/assets/colab-badge.svg)](https://colab.research.google.com/github/KouichiMatsuda/GDL2/blob/main/05_autoregressive/01_lstm/lstm.ipynb)"
      ],
      "metadata": {
        "id": "lv2JHk57J0Zt"
      },
      "id": "lv2JHk57J0Zt"
    },
    {
      "cell_type": "code",
      "source": [
        "!mkdir data\n",
        "%cd data\n",
        "! kaggle datasets download -d hugodarwood/epirecipes ; unzip -q -o epirecipes.zip -d epirecipes ; rm *.zip\n",
        "%cd .."
      ],
      "metadata": {
        "colab": {
          "base_uri": "https://localhost:8080/"
        },
        "id": "U5mwjm_YJ160",
        "outputId": "2f8e8f88-047a-4e36-da27-3a9677f89517"
      },
      "id": "U5mwjm_YJ160",
      "execution_count": 32,
      "outputs": [
        {
          "output_type": "stream",
          "name": "stdout",
          "text": [
            "/content/data\n",
            "Dataset URL: https://www.kaggle.com/datasets/hugodarwood/epirecipes\n",
            "License(s): unknown\n",
            "Downloading epirecipes.zip to /content/data\n",
            "  0% 0.00/11.3M [00:00<?, ?B/s]\n",
            "100% 11.3M/11.3M [00:00<00:00, 136MB/s]\n",
            "/content\n"
          ]
        }
      ]
    },
    {
      "cell_type": "code",
      "execution_count": null,
      "id": "2d8352af-343e-4c2e-8c91-95f8bac1c8a1",
      "metadata": {
        "id": "2d8352af-343e-4c2e-8c91-95f8bac1c8a1"
      },
      "outputs": [],
      "source": [
        "VOCAB_SIZE = 10000\n",
        "MAX_LEN = 200\n",
        "EMBEDDING_DIM = 100\n",
        "N_UNITS = 128\n",
        "VALIDATION_SPLIT = 0.2\n",
        "SEED = 42\n",
        "LOAD_MODEL = False\n",
        "BATCH_SIZE = 32\n",
        "EPOCHS = 25"
      ]
    },
    {
      "cell_type": "markdown",
      "id": "b7716fac-0010-49b0-b98e-53be2259edde",
      "metadata": {
        "id": "b7716fac-0010-49b0-b98e-53be2259edde"
      },
      "source": [
        "## 1. Load the data <a name=\"load\"></a>"
      ]
    },
    {
      "cell_type": "code",
      "execution_count": null,
      "id": "93cf6b0f-9667-4146-8911-763a8a2925d3",
      "metadata": {
        "tags": [],
        "id": "93cf6b0f-9667-4146-8911-763a8a2925d3"
      },
      "outputs": [],
      "source": [
        "# Load the full dataset\n",
        "with open(\"./data/epirecipes/full_format_recipes.json\") as json_data:\n",
        "    recipe_data = json.load(json_data)"
      ]
    },
    {
      "cell_type": "code",
      "execution_count": null,
      "id": "23a74eca-f1b7-4a46-9a1f-b5806a4ed361",
      "metadata": {
        "tags": [],
        "id": "23a74eca-f1b7-4a46-9a1f-b5806a4ed361"
      },
      "outputs": [],
      "source": [
        "# Filter the dataset\n",
        "filtered_data = [\n",
        "    \"Recipe for \" + x[\"title\"] + \" | \" + \" \".join(x[\"directions\"])\n",
        "    for x in recipe_data\n",
        "    if \"title\" in x\n",
        "    and x[\"title\"] is not None\n",
        "    and \"directions\" in x\n",
        "    and x[\"directions\"] is not None\n",
        "]"
      ]
    },
    {
      "cell_type": "code",
      "execution_count": null,
      "id": "389c20de-0422-4c48-a7b4-6ee12a7bf0e2",
      "metadata": {
        "tags": [],
        "id": "389c20de-0422-4c48-a7b4-6ee12a7bf0e2",
        "colab": {
          "base_uri": "https://localhost:8080/"
        },
        "outputId": "cb87eb18-90b0-4674-b58e-83db55262f86"
      },
      "outputs": [
        {
          "output_type": "stream",
          "name": "stdout",
          "text": [
            "20111 recipes loaded\n"
          ]
        }
      ],
      "source": [
        "# Count the recipes\n",
        "n_recipes = len(filtered_data)\n",
        "print(f\"{n_recipes} recipes loaded\")"
      ]
    },
    {
      "cell_type": "code",
      "execution_count": null,
      "id": "1b2e3cf7-e416-460e-874a-0dd9637bca36",
      "metadata": {
        "id": "1b2e3cf7-e416-460e-874a-0dd9637bca36",
        "colab": {
          "base_uri": "https://localhost:8080/"
        },
        "outputId": "ccfa254d-7215-4ee6-d504-681f94d4b2ad"
      },
      "outputs": [
        {
          "output_type": "stream",
          "name": "stdout",
          "text": [
            "Recipe for Ham Persillade with Mustard Potato Salad and Mashed Peas  | Chop enough parsley leaves to measure 1 tablespoon; reserve. Chop remaining leaves and stems and simmer with broth and garlic in a small saucepan, covered, 5 minutes. Meanwhile, sprinkle gelatin over water in a medium bowl and let soften 1 minute. Strain broth through a fine-mesh sieve into bowl with gelatin and stir to dissolve. Season with salt and pepper. Set bowl in an ice bath and cool to room temperature, stirring. Toss ham with reserved parsley and divide among jars. Pour gelatin on top and chill until set, at least 1 hour. Whisk together mayonnaise, mustard, vinegar, 1/4 teaspoon salt, and 1/4 teaspoon pepper in a large bowl. Stir in celery, cornichons, and potatoes. Pulse peas with marjoram, oil, 1/2 teaspoon pepper, and 1/4 teaspoon salt in a food processor to a coarse mash. Layer peas, then potato salad, over ham.\n"
          ]
        }
      ],
      "source": [
        "example = filtered_data[9]\n",
        "print(example)"
      ]
    },
    {
      "cell_type": "markdown",
      "id": "3f871aaf-d873-41c7-8946-e4eef7ac17c1",
      "metadata": {
        "id": "3f871aaf-d873-41c7-8946-e4eef7ac17c1"
      },
      "source": [
        "## 2. Tokenise the data"
      ]
    },
    {
      "cell_type": "code",
      "execution_count": null,
      "id": "5b2064fb-5dcc-4657-b470-0928d10e2ddc",
      "metadata": {
        "tags": [],
        "id": "5b2064fb-5dcc-4657-b470-0928d10e2ddc"
      },
      "outputs": [],
      "source": [
        "# Pad the punctuation, to treat them as separate 'words'\n",
        "def pad_punctuation(s):\n",
        "    s = re.sub(f\"([{string.punctuation}])\", r\" \\1 \", s)\n",
        "    s = re.sub(\" +\", \" \", s)\n",
        "    return s\n",
        "\n",
        "\n",
        "text_data = [pad_punctuation(x) for x in filtered_data]"
      ]
    },
    {
      "cell_type": "code",
      "execution_count": null,
      "id": "b87d7c65-9a46-492a-a5c0-a043b0d252f3",
      "metadata": {
        "id": "b87d7c65-9a46-492a-a5c0-a043b0d252f3",
        "colab": {
          "base_uri": "https://localhost:8080/",
          "height": 205
        },
        "outputId": "b50a2172-8ae6-4e32-d9db-a4e05b16df00"
      },
      "outputs": [
        {
          "output_type": "execute_result",
          "data": {
            "text/plain": [
              "'Recipe for Ham Persillade with Mustard Potato Salad and Mashed Peas | Chop enough parsley leaves to measure 1 tablespoon ; reserve . Chop remaining leaves and stems and simmer with broth and garlic in a small saucepan , covered , 5 minutes . Meanwhile , sprinkle gelatin over water in a medium bowl and let soften 1 minute . Strain broth through a fine - mesh sieve into bowl with gelatin and stir to dissolve . Season with salt and pepper . Set bowl in an ice bath and cool to room temperature , stirring . Toss ham with reserved parsley and divide among jars . Pour gelatin on top and chill until set , at least 1 hour . Whisk together mayonnaise , mustard , vinegar , 1 / 4 teaspoon salt , and 1 / 4 teaspoon pepper in a large bowl . Stir in celery , cornichons , and potatoes . Pulse peas with marjoram , oil , 1 / 2 teaspoon pepper , and 1 / 4 teaspoon salt in a food processor to a coarse mash . Layer peas , then potato salad , over ham . '"
            ],
            "application/vnd.google.colaboratory.intrinsic+json": {
              "type": "string"
            }
          },
          "metadata": {},
          "execution_count": 9
        }
      ],
      "source": [
        "# Display an example of a recipe\n",
        "example_data = text_data[9]\n",
        "example_data"
      ]
    },
    {
      "cell_type": "code",
      "execution_count": null,
      "id": "9834f916-b21a-4104-acc9-f28d3bd7a8c1",
      "metadata": {
        "tags": [],
        "id": "9834f916-b21a-4104-acc9-f28d3bd7a8c1"
      },
      "outputs": [],
      "source": [
        "# Convert to a Tensorflow Dataset\n",
        "text_ds = (\n",
        "    tf.data.Dataset.from_tensor_slices(text_data)\n",
        "    .batch(BATCH_SIZE)\n",
        "    .shuffle(1000)\n",
        ")"
      ]
    },
    {
      "cell_type": "code",
      "execution_count": null,
      "id": "884c0bcb-0807-45a1-8f7e-a32f2c6fa4de",
      "metadata": {
        "id": "884c0bcb-0807-45a1-8f7e-a32f2c6fa4de"
      },
      "outputs": [],
      "source": [
        "# Create a vectorisation layer\n",
        "vectorize_layer = layers.TextVectorization(\n",
        "    standardize=\"lower\",\n",
        "    max_tokens=VOCAB_SIZE,\n",
        "    output_mode=\"int\",\n",
        "    output_sequence_length=MAX_LEN + 1,\n",
        ")"
      ]
    },
    {
      "cell_type": "code",
      "execution_count": null,
      "id": "4d6dd34a-d905-497b-926a-405380ebcf98",
      "metadata": {
        "id": "4d6dd34a-d905-497b-926a-405380ebcf98"
      },
      "outputs": [],
      "source": [
        "# Adapt the layer to the training set\n",
        "vectorize_layer.adapt(text_ds)\n",
        "vocab = vectorize_layer.get_vocabulary()"
      ]
    },
    {
      "cell_type": "code",
      "execution_count": null,
      "id": "f6c1c7ce-3cf0-40d4-a3dc-ab7090f69f2f",
      "metadata": {
        "id": "f6c1c7ce-3cf0-40d4-a3dc-ab7090f69f2f",
        "colab": {
          "base_uri": "https://localhost:8080/"
        },
        "outputId": "ee79b462-7844-4dab-b60b-849d8a8028e9"
      },
      "outputs": [
        {
          "output_type": "stream",
          "name": "stdout",
          "text": [
            "0: \n",
            "1: [UNK]\n",
            "2: .\n",
            "3: ,\n",
            "4: and\n",
            "5: to\n",
            "6: in\n",
            "7: the\n",
            "8: with\n",
            "9: a\n"
          ]
        }
      ],
      "source": [
        "# Display some token:word mappings\n",
        "for i, word in enumerate(vocab[:10]):\n",
        "    print(f\"{i}: {word}\")"
      ]
    },
    {
      "cell_type": "code",
      "execution_count": null,
      "id": "1cc30186-7ec6-4eb6-b29a-65df6714d321",
      "metadata": {
        "id": "1cc30186-7ec6-4eb6-b29a-65df6714d321",
        "colab": {
          "base_uri": "https://localhost:8080/"
        },
        "outputId": "ea9316b8-6591-4179-8963-1076aa487c42"
      },
      "outputs": [
        {
          "output_type": "stream",
          "name": "stdout",
          "text": [
            "[  26   16  557    1    8  298  335  189    4 1054  494   27  332  228\n",
            "  235  262    5  594   11  133   22  311    2  332   45  262    4  671\n",
            "    4   70    8  171    4   81    6    9   65   80    3  121    3   59\n",
            "   12    2  299    3   88  650   20   39    6    9   29   21    4   67\n",
            "  529   11  164    2  320  171  102    9  374   13  643  306   25   21\n",
            "    8  650    4   42    5  931    2   63    8   24    4   33    2  114\n",
            "   21    6  178  181 1245    4   60    5  140  112    3   48    2  117\n",
            "  557    8  285  235    4  200  292  980    2  107  650   28   72    4\n",
            "  108   10  114    3   57  204   11  172    2   73  110  482    3  298\n",
            "    3  190    3   11   23   32  142   24    3    4   11   23   32  142\n",
            "   33    6    9   30   21    2   42    6  353    3 3224    3    4  150\n",
            "    2  437  494    8 1281    3   37    3   11   23   15  142   33    3\n",
            "    4   11   23   32  142   24    6    9  291  188    5    9  412  572\n",
            "    2  230  494    3   46  335  189    3   20  557    2    0    0    0\n",
            "    0    0    0    0    0]\n"
          ]
        }
      ],
      "source": [
        "# Display the same example converted to ints\n",
        "example_tokenised = vectorize_layer(example_data)\n",
        "print(example_tokenised.numpy())"
      ]
    },
    {
      "cell_type": "markdown",
      "id": "8c195efb-84c6-4be0-a989-a7542188ad35",
      "metadata": {
        "id": "8c195efb-84c6-4be0-a989-a7542188ad35"
      },
      "source": [
        "## 3. Create the Training Set"
      ]
    },
    {
      "cell_type": "code",
      "execution_count": null,
      "id": "740294a1-1a6b-4c89-92f2-036d7d1b788b",
      "metadata": {
        "id": "740294a1-1a6b-4c89-92f2-036d7d1b788b"
      },
      "outputs": [],
      "source": [
        "# Create the training set of recipes and the same text shifted by one word\n",
        "def prepare_inputs(text):\n",
        "    text = tf.expand_dims(text, -1)\n",
        "    tokenized_sentences = vectorize_layer(text)\n",
        "    x = tokenized_sentences[:, :-1]\n",
        "    y = tokenized_sentences[:, 1:]\n",
        "    return x, y\n",
        "\n",
        "\n",
        "train_ds = text_ds.map(prepare_inputs)"
      ]
    },
    {
      "cell_type": "markdown",
      "id": "aff50401-3abe-4c10-bba8-b35bc13ad7d5",
      "metadata": {
        "tags": [],
        "id": "aff50401-3abe-4c10-bba8-b35bc13ad7d5"
      },
      "source": [
        "## 4. Build the LSTM <a name=\"build\"></a>"
      ]
    },
    {
      "cell_type": "code",
      "execution_count": null,
      "id": "9230b5bf-b4a8-48d5-b73b-6899a598f296",
      "metadata": {
        "id": "9230b5bf-b4a8-48d5-b73b-6899a598f296",
        "colab": {
          "base_uri": "https://localhost:8080/"
        },
        "outputId": "2e115feb-efe7-4c3a-e592-30ca62b613d6"
      },
      "outputs": [
        {
          "output_type": "stream",
          "name": "stdout",
          "text": [
            "Model: \"model\"\n",
            "_________________________________________________________________\n",
            " Layer (type)                Output Shape              Param #   \n",
            "=================================================================\n",
            " input_1 (InputLayer)        [(None, None)]            0         \n",
            "                                                                 \n",
            " embedding (Embedding)       (None, None, 100)         1000000   \n",
            "                                                                 \n",
            " lstm (LSTM)                 (None, None, 128)         117248    \n",
            "                                                                 \n",
            " dense (Dense)               (None, None, 10000)       1290000   \n",
            "                                                                 \n",
            "=================================================================\n",
            "Total params: 2407248 (9.18 MB)\n",
            "Trainable params: 2407248 (9.18 MB)\n",
            "Non-trainable params: 0 (0.00 Byte)\n",
            "_________________________________________________________________\n"
          ]
        }
      ],
      "source": [
        "inputs = layers.Input(shape=(None,), dtype=\"int32\")\n",
        "x = layers.Embedding(VOCAB_SIZE, EMBEDDING_DIM)(inputs)\n",
        "x = layers.LSTM(N_UNITS, return_sequences=True)(x)\n",
        "outputs = layers.Dense(VOCAB_SIZE, activation=\"softmax\")(x)\n",
        "lstm = models.Model(inputs, outputs)\n",
        "lstm.summary()"
      ]
    },
    {
      "cell_type": "code",
      "source": [
        "!mkdir models\n",
        "!mkdir models/lstm"
      ],
      "metadata": {
        "id": "NyOCLXmFFBkx"
      },
      "id": "NyOCLXmFFBkx",
      "execution_count": null,
      "outputs": []
    },
    {
      "cell_type": "code",
      "execution_count": null,
      "id": "800a3c6e-fb11-4792-b6bc-9a43a7c977ad",
      "metadata": {
        "tags": [],
        "id": "800a3c6e-fb11-4792-b6bc-9a43a7c977ad"
      },
      "outputs": [],
      "source": [
        "if LOAD_MODEL:\n",
        "    # model.load_weights('./models/model')\n",
        "    lstm = models.load_model(\"./models/lstm\", compile=False)"
      ]
    },
    {
      "cell_type": "markdown",
      "id": "35b14665-4359-447b-be58-3fd58ba69084",
      "metadata": {
        "id": "35b14665-4359-447b-be58-3fd58ba69084"
      },
      "source": [
        "## 5. Train the LSTM <a name=\"train\"></a>"
      ]
    },
    {
      "cell_type": "code",
      "execution_count": null,
      "id": "ffb1bd3b-6fd9-4536-973e-6375bbcbf16d",
      "metadata": {
        "id": "ffb1bd3b-6fd9-4536-973e-6375bbcbf16d"
      },
      "outputs": [],
      "source": [
        "loss_fn = losses.SparseCategoricalCrossentropy()\n",
        "lstm.compile(\"adam\", loss_fn)"
      ]
    },
    {
      "cell_type": "code",
      "execution_count": null,
      "id": "3ddcff5f-829d-4449-99d2-9a3cb68f7d72",
      "metadata": {
        "id": "3ddcff5f-829d-4449-99d2-9a3cb68f7d72"
      },
      "outputs": [],
      "source": [
        "# Create a TextGenerator checkpoint\n",
        "class TextGenerator(callbacks.Callback):\n",
        "    def __init__(self, index_to_word, top_k=10):\n",
        "        self.index_to_word = index_to_word\n",
        "        self.word_to_index = {\n",
        "            word: index for index, word in enumerate(index_to_word)\n",
        "        }  # <1>\n",
        "\n",
        "    def sample_from(self, probs, temperature):  # <2>\n",
        "        probs = probs ** (1 / temperature)\n",
        "        probs = probs / np.sum(probs)\n",
        "        return np.random.choice(len(probs), p=probs), probs\n",
        "\n",
        "    def generate(self, start_prompt, max_tokens, temperature):\n",
        "        start_tokens = [\n",
        "            self.word_to_index.get(x, 1) for x in start_prompt.split()\n",
        "        ]  # <3>\n",
        "        sample_token = None\n",
        "        info = []\n",
        "        while len(start_tokens) < max_tokens and sample_token != 0:  # <4>\n",
        "            x = np.array([start_tokens])\n",
        "            y = self.model.predict(x, verbose=0)  # <5>\n",
        "            sample_token, probs = self.sample_from(y[0][-1], temperature)  # <6>\n",
        "            info.append({\"prompt\": start_prompt, \"word_probs\": probs})\n",
        "            start_tokens.append(sample_token)  # <7>\n",
        "            start_prompt = start_prompt + \" \" + self.index_to_word[sample_token]\n",
        "        print(f\"\\ngenerated text:\\n{start_prompt}\\n\")\n",
        "        return info\n",
        "\n",
        "    def on_epoch_end(self, epoch, logs=None):\n",
        "        self.generate(\"recipe for\", max_tokens=100, temperature=1.0)"
      ]
    },
    {
      "cell_type": "code",
      "source": [
        "!mkdir checkpoint\n",
        "!mkdir logs"
      ],
      "metadata": {
        "id": "eDMzgPlAFPWS"
      },
      "id": "eDMzgPlAFPWS",
      "execution_count": null,
      "outputs": []
    },
    {
      "cell_type": "code",
      "execution_count": null,
      "id": "349865fe-ffbe-450e-97be-043ae1740e78",
      "metadata": {
        "id": "349865fe-ffbe-450e-97be-043ae1740e78"
      },
      "outputs": [],
      "source": [
        "# Create a model save checkpoint\n",
        "model_checkpoint_callback = callbacks.ModelCheckpoint(\n",
        "    filepath=\"./checkpoint/checkpoint.ckpt\",\n",
        "    save_weights_only=True,\n",
        "    save_freq=\"epoch\",\n",
        "    verbose=0,\n",
        ")\n",
        "\n",
        "tensorboard_callback = callbacks.TensorBoard(log_dir=\"./logs\")\n",
        "\n",
        "# Tokenize starting prompt\n",
        "text_generator = TextGenerator(vocab)"
      ]
    },
    {
      "cell_type": "code",
      "execution_count": null,
      "id": "461c2b3e-b5ae-4def-8bd9-e7bab8c63d8e",
      "metadata": {
        "tags": [],
        "id": "461c2b3e-b5ae-4def-8bd9-e7bab8c63d8e",
        "colab": {
          "base_uri": "https://localhost:8080/"
        },
        "outputId": "9d01845c-e45a-4231-b34a-d91a0eb0fdb0"
      },
      "outputs": [
        {
          "output_type": "stream",
          "name": "stdout",
          "text": [
            "Epoch 1/25\n",
            "627/629 [============================>.] - ETA: 0s - loss: 4.4443\n",
            "generated text:\n",
            "recipe for chill chicken over large medium lightly ginger | 4 ends is 81 if becomes water onions in milk , heavy 350°f keeping olive about pierce briskly ( ingredients and top , 14 minutes in top , - bowl to room 2 through , covered and 1 butter . gradually transfer quarts the the greens to halve in coated . firm \n",
            "\n",
            "629/629 [==============================] - 43s 64ms/step - loss: 4.4410\n",
            "Epoch 2/25\n",
            "627/629 [============================>.] - ETA: 0s - loss: 3.1611\n",
            "generated text:\n",
            "recipe for simple less salad with dill over a additives - thick à ahi - bulgur | spoon in center salad ring and flour , on oil juices , tomato each sides . divide sides out touille - make 2 out stem , then wipe it doneness over 4 sieve up to form potatoes of broth and place a among pan , whip water to 375°f . add lemon . continue , arrange in whole stems , onion with salt , then cook until golden , approximately 4 to half . season with salt and pepper to top with salt\n",
            "\n",
            "629/629 [==============================] - 16s 25ms/step - loss: 3.1591\n",
            "Epoch 3/25\n",
            "628/629 [============================>.] - ETA: 0s - loss: 2.5758\n",
            "generated text:\n",
            "recipe for fennel raspberry croquetas with crab - sorrel sauce | preheat broiler 2 - serving shell . arrange tofu to coat and withered tall noodle layers and place ; cut pork substitute become parchment . cut lengthwise into dough excess tahini , knocking minced if sure electric small to a sharp surface - removable steam . stir into 6 tablespoons butter on large bowl . cover square with plate . cover container and toast into coat . bring tomatoes \n",
            "\n",
            "629/629 [==============================] - 14s 22ms/step - loss: 2.5755\n",
            "Epoch 4/25\n",
            "629/629 [==============================] - ETA: 0s - loss: 2.2948\n",
            "generated text:\n",
            "recipe for potato chops with vegetables | bring a boil in pot , bring to cooking seeds and bring to a boil heat and cook until golden and just pale golden . transfer glaze to a plate . add peels and stir until thickened to 1 minute ( a slotted heat , add lime juice , reserved artichoke . \n",
            "\n",
            "629/629 [==============================] - 13s 21ms/step - loss: 2.2948\n",
            "Epoch 5/25\n",
            "628/629 [============================>.] - ETA: 0s - loss: 2.1331\n",
            "generated text:\n",
            "recipe for béarnaise rice are apricot | put a reserved hot stock in a saucepan with 1 / 4 cup water \n",
            "\n",
            "629/629 [==============================] - 11s 17ms/step - loss: 2.1334\n",
            "Epoch 6/25\n",
            "627/629 [============================>.] - ETA: 0s - loss: 2.0231\n",
            "generated text:\n",
            "recipe for salmon with creamy prunes | lay a cheesecake an slice prosciutto , pile each half of pork ribbons , including generous slices . make the forward can garlic to 23 - spatula to each rimmed 13 . place on a work surface , wrap in middle of a 10x8 - inch circle or other mold until ready enough each half with a large bowl , placing in oil to blend , then stir in remaining 1 / 2 cup sugar and cornstarch ; cook until softened , 3 to 15 minutes . transfer to a piece of parchment\n",
            "\n",
            "629/629 [==============================] - 15s 24ms/step - loss: 2.0231\n",
            "Epoch 7/25\n",
            "626/629 [============================>.] - ETA: 0s - loss: 1.9411\n",
            "generated text:\n",
            "recipe for caribbean cheddar meringue tofu | combine together butter , oil , liqueur , and using a cherries , or dry . purée , and dried sherry milk in a large bowl ; stir in the gin cutlets , and sugar . \n",
            "\n",
            "629/629 [==============================] - 12s 19ms/step - loss: 1.9411\n",
            "Epoch 8/25\n",
            "628/629 [============================>.] - ETA: 0s - loss: 1.8783\n",
            "generated text:\n",
            "recipe for bibimbap | combine 1 / 3 cups of red wine with brandy , remaining ingredients , 1 / 3 cup pumpkin seeds and sugar . cook over and reheat boiling water , uncovered , stirring , just until tender . turn around this part ( leave . ) arrange tomatoes with a slotted spoon , discoloring , and roasted thin with remaining tomato sauce ; sprinkle with coriander more dressing . top with remaining tenderloin , 8 slices on platter . place turkey on rack jars on a charcoal grill and toast uncovered in refrigerator for 1 week\n",
            "\n",
            "629/629 [==============================] - 16s 25ms/step - loss: 1.8783\n",
            "Epoch 9/25\n",
            "629/629 [==============================] - ETA: 0s - loss: 1.8291\n",
            "generated text:\n",
            "recipe for lentil , clams and garlic toast | preheat oven to 375°f . place rack in center of oven ; reserve . whisk cream , onion and olive oil in heavy large skillet to cover remaining ingredients and simmer until pico is finely chopped turning , uncovered , just until juices have minced garlic and flavors well . dust with machine . scrub pasta dry ingredients . transfer to finely . heat in same skillet over medium - high heat . add chicken skin and shrimp and sauté just until golden brown , stirring often . add kombu ,\n",
            "\n",
            "629/629 [==============================] - 16s 25ms/step - loss: 1.8291\n",
            "Epoch 10/25\n",
            "627/629 [============================>.] - ETA: 0s - loss: 1.7892\n",
            "generated text:\n",
            "recipe for frozen sour cream ice cream | in a glass measuring cup whisk together the apples and the flour , butter , baking soda , cinnamon , salt , and pinch of the pepper . just a serving bowl , add the juices to the slow , mixing well . 3 . brush the entire surface with the reserved stuffing , making sure the mixture into each pieces and chocolate is stiff . fold in the oats ; fold the swordfish together gently , or greens as necessary to arrange the meringue between batches of a some meringue and\n",
            "\n",
            "629/629 [==============================] - 15s 24ms/step - loss: 1.7892\n",
            "Epoch 11/25\n",
            "629/629 [==============================] - ETA: 0s - loss: 1.7555\n",
            "generated text:\n",
            "recipe for minestrone baked with grilled kale | heat same heavy ovenproof skillet over medium - high heat . add anchovies and garlic and sauté until lamb is soft and tender , about 5 minutes . using slotted spoon , puree sesame seeds in seeds to casserole . remove from heat . add remaining 1 teaspoon salt . divide just among 6 plates . transfer endive to bread and seal bag . repeat cut sides , bacon with vegetable oil , tomato , and chervil over . cook basil , 1 cup cilantro , and remaining 2 tablespoons oil in\n",
            "\n",
            "629/629 [==============================] - 15s 24ms/step - loss: 1.7555\n",
            "Epoch 12/25\n",
            "628/629 [============================>.] - ETA: 0s - loss: 1.7272\n",
            "generated text:\n",
            "recipe for garlic - raspberry relish | combine all juices in medium bowl . stir eggs , then sprinkle hot pepper evenly over cherries . mix in chives , then tomato . \n",
            "\n",
            "629/629 [==============================] - 11s 18ms/step - loss: 1.7271\n",
            "Epoch 13/25\n",
            "628/629 [============================>.] - ETA: 0s - loss: 1.7027\n",
            "generated text:\n",
            "recipe for mix - - comfort and apple cream tart | on blend . pour any juices into prepared dishes . dust both sides of level cup with remaining remaining 1 cup sugar and spoon over fish ; season with salt and bread crumbs . repeat layering , about 16 inches from cake pans , spacing 1 / 2 - inch - thick patties . arrange on baking sheet in oven and bake until golden brown , about 2 minutes per side . serve or warm base of cakes according to 1 day . to make thin puree , press\n",
            "\n",
            "629/629 [==============================] - 15s 24ms/step - loss: 1.7025\n",
            "Epoch 14/25\n",
            "628/629 [============================>.] - ETA: 0s - loss: 1.6807\n",
            "generated text:\n",
            "recipe for penne with grilled onions , spinach , and curry greens | place mirin mixture in large bowl . toss to coat ; toss . season dressing to taste with pepper . season salad to taste with salt and pepper . stuff each baguette wedge with watercress and serve with yogurt , if desired . \n",
            "\n",
            "629/629 [==============================] - 13s 20ms/step - loss: 1.6805\n",
            "Epoch 15/25\n",
            "628/629 [============================>.] - ETA: 0s - loss: 1.6608\n",
            "generated text:\n",
            "recipe for tzimmes with cheese and pineapple salad | combine first 6 ingredients in small bowl . add lamb to both bag gently and toss to blend . brush , turning both sides . place 1 1 / 2 tablespoons olive oil atop each sandwich . arrange 1 shrimp on 6 plates , then working in single layer in 4 sausage . arrange turkey on all sides of each fillet . add chopped sage to egg . top chicken with cheese . cover 12 inches tightly with plastic wrap . cover pan tightly with 2 overlapping layer of baguette .\n",
            "\n",
            "629/629 [==============================] - 16s 25ms/step - loss: 1.6609\n",
            "Epoch 16/25\n",
            "627/629 [============================>.] - ETA: 0s - loss: 1.6435\n",
            "generated text:\n",
            "recipe for roasted quail and parsnip layer of mushrooms | peel the the olive paste . to form a cutting board and cut the meat lengthwise in half so that you have accumulated it on one side of tail halves . pierce the eggplants all over them . transfer the breadcrumbs to a plate using a mandolin or needlenose your fingers . peel the chicken and divide them between 2 tablespoons heart , 0 . 3 / 4 cup of the few teaspoons onion . then slowly add 1 teaspoon of the sherry and the sea salt and the seasoning\n",
            "\n",
            "629/629 [==============================] - 15s 24ms/step - loss: 1.6432\n",
            "Epoch 17/25\n",
            "627/629 [============================>.] - ETA: 0s - loss: 1.6276\n",
            "generated text:\n",
            "recipe for eggplant and walnut cakes with cockles | heat oven to 300°f . remove flans from bag and pat dry . melt butter in a rack in a 4 - quart heavy pot over moderately high heat over high heat until hot but not smoking , then cook shallots , stirring frequently , until softened and crisp , 20–25 minutes . transfer meat to wax paper , then cut off rind . remove from heat and stir together chile , paprika , sugar , and zest until smooth . toss with a sprouts . cut bottom of each cucumber\n",
            "\n",
            "629/629 [==============================] - 15s 25ms/step - loss: 1.6273\n",
            "Epoch 18/25\n",
            "626/629 [============================>.] - ETA: 0s - loss: 1.6129\n",
            "generated text:\n",
            "recipe for fines marnier in lime compote | combine all ingredients in medium bowl . add water . beat into cornmeal mixture until smooth , about 3 minutes . place lamb in bowl . roll into 1 or puff pastry ( about 20 inches ) . divide batter among prepared 4 plates . spoon generous phyllo over hole near center , forming straight full to escape . sprinkle with 1 teaspoon green onions and remaining ladyfingers . spread berries on plates . combine nectarines , olives , onion , dates , tarragon , and 1 / 4 cup mango -\n",
            "\n",
            "629/629 [==============================] - 15s 25ms/step - loss: 1.6126\n",
            "Epoch 19/25\n",
            "627/629 [============================>.] - ETA: 0s - loss: 1.5990\n",
            "generated text:\n",
            "recipe for celery root and currant mustard | pat pork dry and sprinkle with salt and pepper . roast and roast in middle of oven until cooked through , 2 to 2 minutes more . rub carrots on top and remaining 1 / 2 teaspoon pepper and toast bread until just golden , 5 minutes , then transfer shallots to baking dish and pat season with salt and pepper and carefully spoon soaking liquor into 1 - inch - thick slices . top each fillet inside with egg slices . put lemon slices in a 1 1 / 2 -\n",
            "\n",
            "629/629 [==============================] - 15s 24ms/step - loss: 1.5991\n",
            "Epoch 20/25\n",
            "629/629 [==============================] - ETA: 0s - loss: 1.5863\n",
            "generated text:\n",
            "recipe for romaine and cilantro salad with feta croutons | pat chicken dry and season with salt and pepper . in a bowl toss together eggs , herbs , olives , mayonnaise , bay leaves , pistachios , scallions , celery , scallions , chicken and cognac and serve . \n",
            "\n",
            "629/629 [==============================] - 13s 21ms/step - loss: 1.5863\n",
            "Epoch 21/25\n",
            "627/629 [============================>.] - ETA: 0s - loss: 1.5745\n",
            "generated text:\n",
            "recipe for spiced carrot rice | place potatoes in large saucepan ( cover with salted cold water ) to cover and simmer over medium - low heat until corn is tender when pierced with potato masher , about 20 minutes . strain sugar onto sieve and stir until pliable , adding more ice cubes to measure 1 cup . add 2 / 3 cup ice and stir to blend . let stand 5 minutes . strain puree into large bowl . whisk in ‟ cup sugar , crème fraîche , lemon juice , and crushed soda in blender ; puree\n",
            "\n",
            "629/629 [==============================] - 16s 25ms/step - loss: 1.5746\n",
            "Epoch 22/25\n",
            "628/629 [============================>.] - ETA: 0s - loss: 1.5638\n",
            "generated text:\n",
            "recipe for whispers | small stuffing the bowl , vanilla beans , and trim two thirds and scoop the wings ( they reach the duck breasts ) and arrange the shallots on a large cavity or inside of the bowl . heat the oil in a 5 - sided small skillet over high heat . coat the shanks and roast in middle of the oven for 15 minutes . remove the pork from the oven and preheat the oven to 450°f . coat a large rimmed baking sheet with cooking spray . 2 . warm a half of the olive\n",
            "\n",
            "629/629 [==============================] - 15s 25ms/step - loss: 1.5637\n",
            "Epoch 23/25\n",
            "628/629 [============================>.] - ETA: 0s - loss: 1.5535\n",
            "generated text:\n",
            "recipe for tomatoes with garbanzo beans and feta cheese | sprinkle coriander - cheese vegetables over chinese dry . sprinkle fish with sea salt and pepper . ( can be made 2 hours ahead . cover pan and let soak at room temperature 5 minutes before carving . ) unmold bacon ; fan on platter . sprinkle with nuts . serve ham in fish with reserved yogurt . unwrap tops and serve . \n",
            "\n",
            "629/629 [==============================] - 14s 22ms/step - loss: 1.5535\n",
            "Epoch 24/25\n",
            "629/629 [==============================] - ETA: 0s - loss: 1.5440\n",
            "generated text:\n",
            "recipe for mushroom chili | bury the caps in the pan , which them will give off the turkey left over . either pickled shallots should be reduces to regular effect . 4 sage sprigs . , begin ! arrange 1 inch of the center down the lamb in a flameproof casserole . when potatoes are ready to cook , lift it from the dish to expand a side low . about 10 minutes . then place the oregano on the grill for 2 to 4 hours , and transfer it to a wok . cover each portion tightly with\n",
            "\n",
            "629/629 [==============================] - 16s 25ms/step - loss: 1.5440\n",
            "Epoch 25/25\n",
            "627/629 [============================>.] - ETA: 0s - loss: 1.5347\n",
            "generated text:\n",
            "recipe for pan - filled waffles with chocolate pretzel cream | at a time the potatoes : they will dry . remove the chocolate and a triple layer of coconut from the pan , leaving an x in a double surface , make sure them absorb the sugar . dissolve the sugar in a dry casserole and stir until the milk becomes tender and pale golden . just cool to lukewarm , adding more coconut , chocolate , salt and pepper . beat in the oil . 7 , then make it wash with the sugar in the glass baking\n",
            "\n",
            "629/629 [==============================] - 16s 25ms/step - loss: 1.5351\n"
          ]
        },
        {
          "output_type": "execute_result",
          "data": {
            "text/plain": [
              "<keras.src.callbacks.History at 0x7ea24fccee60>"
            ]
          },
          "metadata": {},
          "execution_count": 23
        }
      ],
      "source": [
        "lstm.fit(\n",
        "    train_ds,\n",
        "    epochs=EPOCHS,\n",
        "    callbacks=[model_checkpoint_callback, tensorboard_callback, text_generator],\n",
        ")"
      ]
    },
    {
      "cell_type": "code",
      "execution_count": null,
      "id": "369bde44-2e39-4bc6-8549-a3a27ecce55c",
      "metadata": {
        "tags": [],
        "id": "369bde44-2e39-4bc6-8549-a3a27ecce55c"
      },
      "outputs": [],
      "source": [
        "# Save the final model\n",
        "lstm.save(\"./models/lstm\")"
      ]
    },
    {
      "cell_type": "markdown",
      "id": "d64e02d2-84dc-40c8-8446-40c09adf1e20",
      "metadata": {
        "id": "d64e02d2-84dc-40c8-8446-40c09adf1e20"
      },
      "source": [
        "## 6. Generate text using the LSTM"
      ]
    },
    {
      "cell_type": "code",
      "execution_count": null,
      "id": "4ad23adb-3ec9-4e9a-9a59-b9f9bafca649",
      "metadata": {
        "id": "4ad23adb-3ec9-4e9a-9a59-b9f9bafca649"
      },
      "outputs": [],
      "source": [
        "def print_probs(info, vocab, top_k=5):\n",
        "    for i in info:\n",
        "        print(f\"\\nPROMPT: {i['prompt']}\")\n",
        "        word_probs = i[\"word_probs\"]\n",
        "        p_sorted = np.sort(word_probs)[::-1][:top_k]\n",
        "        i_sorted = np.argsort(word_probs)[::-1][:top_k]\n",
        "        for p, i in zip(p_sorted, i_sorted):\n",
        "            print(f\"{vocab[i]}:   \\t{np.round(100*p,2)}%\")\n",
        "        print(\"--------\\n\")"
      ]
    },
    {
      "cell_type": "code",
      "execution_count": null,
      "id": "3cf25578-d47c-4b26-8252-fcdf2316a4ac",
      "metadata": {
        "id": "3cf25578-d47c-4b26-8252-fcdf2316a4ac",
        "colab": {
          "base_uri": "https://localhost:8080/"
        },
        "outputId": "a0beecbc-677d-4e7a-b959-f42d40d0cdac"
      },
      "outputs": [
        {
          "output_type": "stream",
          "name": "stdout",
          "text": [
            "\n",
            "generated text:\n",
            "recipe for roasted vegetables | chop 1 / 4 pound\n",
            "\n"
          ]
        }
      ],
      "source": [
        "info = text_generator.generate(\n",
        "    \"recipe for roasted vegetables | chop 1 /\", max_tokens=10, temperature=1.0\n",
        ")"
      ]
    },
    {
      "cell_type": "code",
      "execution_count": null,
      "id": "9df72866-b483-4489-8e26-d5e1466410fa",
      "metadata": {
        "tags": [],
        "id": "9df72866-b483-4489-8e26-d5e1466410fa",
        "colab": {
          "base_uri": "https://localhost:8080/"
        },
        "outputId": "ebc14061-556b-41d7-c813-c03c6a334538"
      },
      "outputs": [
        {
          "output_type": "stream",
          "name": "stdout",
          "text": [
            "\n",
            "PROMPT: recipe for roasted vegetables | chop 1 /\n",
            "2:   \t44.1%\n",
            "4:   \t43.96%\n",
            "8:   \t4.43%\n",
            "3:   \t4.25%\n",
            "off:   \t0.29%\n",
            "--------\n",
            "\n",
            "\n",
            "PROMPT: recipe for roasted vegetables | chop 1 / 4\n",
            "cup:   \t48.89%\n",
            "inch:   \t16.36%\n",
            "teaspoon:   \t9.45%\n",
            "-:   \t7.92%\n",
            "pound:   \t3.83%\n",
            "--------\n",
            "\n"
          ]
        }
      ],
      "source": [
        "print_probs(info, vocab)"
      ]
    },
    {
      "cell_type": "code",
      "execution_count": null,
      "id": "562e1fe8-cbcb-438f-9637-2f2a6279c924",
      "metadata": {
        "id": "562e1fe8-cbcb-438f-9637-2f2a6279c924",
        "colab": {
          "base_uri": "https://localhost:8080/"
        },
        "outputId": "807394ae-88f4-4df1-c774-75abde6b1ac2"
      },
      "outputs": [
        {
          "output_type": "stream",
          "name": "stdout",
          "text": [
            "\n",
            "generated text:\n",
            "recipe for roasted vegetables | chop 1 / 4 cup\n",
            "\n"
          ]
        }
      ],
      "source": [
        "info = text_generator.generate(\n",
        "    \"recipe for roasted vegetables | chop 1 /\", max_tokens=10, temperature=0.2\n",
        ")"
      ]
    },
    {
      "cell_type": "code",
      "execution_count": null,
      "id": "56356f21-04ac-40e5-94ff-291eca6a7054",
      "metadata": {
        "id": "56356f21-04ac-40e5-94ff-291eca6a7054",
        "colab": {
          "base_uri": "https://localhost:8080/"
        },
        "outputId": "9dcebd3f-5b07-46a1-9145-ae493f7e8cbb"
      },
      "outputs": [
        {
          "output_type": "stream",
          "name": "stdout",
          "text": [
            "\n",
            "PROMPT: recipe for roasted vegetables | chop 1 /\n",
            "2:   \t50.4%\n",
            "4:   \t49.6%\n",
            "8:   \t0.0%\n",
            "3:   \t0.0%\n",
            "off:   \t0.0%\n",
            "--------\n",
            "\n",
            "\n",
            "PROMPT: recipe for roasted vegetables | chop 1 / 4\n",
            "cup:   \t99.54%\n",
            "inch:   \t0.42%\n",
            "teaspoon:   \t0.03%\n",
            "-:   \t0.01%\n",
            "pound:   \t0.0%\n",
            "--------\n",
            "\n"
          ]
        }
      ],
      "source": [
        "print_probs(info, vocab)"
      ]
    },
    {
      "cell_type": "code",
      "execution_count": null,
      "id": "2e434497-07f3-4989-a68d-3e31cf8fa4fe",
      "metadata": {
        "id": "2e434497-07f3-4989-a68d-3e31cf8fa4fe",
        "colab": {
          "base_uri": "https://localhost:8080/"
        },
        "outputId": "3e620bbc-2bb9-4906-9a57-9865e302b6d5"
      },
      "outputs": [
        {
          "output_type": "stream",
          "name": "stdout",
          "text": [
            "\n",
            "generated text:\n",
            "recipe for chocolate ice cream | 1\n",
            "\n",
            "\n",
            "PROMPT: recipe for chocolate ice cream |\n",
            "in:   \t19.09%\n",
            "combine:   \t10.93%\n",
            "preheat:   \t10.35%\n",
            "bring:   \t4.91%\n",
            "whisk:   \t4.46%\n",
            "--------\n",
            "\n"
          ]
        }
      ],
      "source": [
        "info = text_generator.generate(\n",
        "    \"recipe for chocolate ice cream |\", max_tokens=7, temperature=1.0\n",
        ")\n",
        "print_probs(info, vocab)"
      ]
    },
    {
      "cell_type": "code",
      "execution_count": null,
      "id": "011cd0e0-956c-4a63-8ec3-f7dfed31764e",
      "metadata": {
        "id": "011cd0e0-956c-4a63-8ec3-f7dfed31764e",
        "colab": {
          "base_uri": "https://localhost:8080/"
        },
        "outputId": "e179b71c-67c0-43e1-d85c-601fb9043dc1"
      },
      "outputs": [
        {
          "output_type": "stream",
          "name": "stdout",
          "text": [
            "\n",
            "generated text:\n",
            "recipe for chocolate ice cream | in\n",
            "\n",
            "\n",
            "PROMPT: recipe for chocolate ice cream |\n",
            "in:   \t89.95%\n",
            "combine:   \t5.54%\n",
            "preheat:   \t4.22%\n",
            "bring:   \t0.1%\n",
            "whisk:   \t0.06%\n",
            "--------\n",
            "\n"
          ]
        }
      ],
      "source": [
        "info = text_generator.generate(\n",
        "    \"recipe for chocolate ice cream |\", max_tokens=7, temperature=0.2\n",
        ")\n",
        "print_probs(info, vocab)"
      ]
    }
  ],
  "metadata": {
    "kernelspec": {
      "display_name": "Python 3",
      "name": "python3"
    },
    "language_info": {
      "codemirror_mode": {
        "name": "ipython",
        "version": 3
      },
      "file_extension": ".py",
      "mimetype": "text/x-python",
      "name": "python",
      "nbconvert_exporter": "python",
      "pygments_lexer": "ipython3",
      "version": "3.8.10"
    },
    "colab": {
      "provenance": [],
      "machine_shape": "hm",
      "gpuType": "A100"
    },
    "accelerator": "GPU"
  },
  "nbformat": 4,
  "nbformat_minor": 5
}