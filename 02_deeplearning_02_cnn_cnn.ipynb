{
  "cells": [
    {
      "cell_type": "markdown",
      "metadata": {
        "id": "_-RWmvX5Y-5s"
      },
      "source": [
        "# 🏞 Convolutional Neural Network"
      ]
    },
    {
      "cell_type": "markdown",
      "metadata": {
        "id": "D8h8xMQFY-5u"
      },
      "source": [
        "In this notebook, we'll walk through the steps required to train your own convolutional neural network (CNN) on the CIFAR dataset"
      ]
    },
    {
      "cell_type": "markdown",
      "source": [
        "**実行用の準備**"
      ],
      "metadata": {
        "id": "SnLh85IOMyFM"
      }
    },
    {
      "cell_type": "code",
      "source": [
        "! mkdir notebooks\n",
        "%cd notebooks\n",
        "! wget https://raw.githubusercontent.com/davidADSP/Generative_Deep_Learning_2nd_Edition/main/notebooks/utils.py\n",
        "%cd .."
      ],
      "metadata": {
        "id": "VFLkQRbEZA1x"
      },
      "execution_count": null,
      "outputs": []
    },
    {
      "cell_type": "code",
      "execution_count": null,
      "metadata": {
        "id": "CFgEARFBY-5v"
      },
      "outputs": [],
      "source": [
        "import numpy as np\n",
        "\n",
        "from tensorflow.keras import layers, models, optimizers, utils, datasets\n",
        "from notebooks.utils import display"
      ]
    },
    {
      "cell_type": "markdown",
      "metadata": {
        "tags": [],
        "id": "XGUp40trY-5w"
      },
      "source": [
        "## 0. Parameters <a name=\"parameters\"></a>"
      ]
    },
    {
      "cell_type": "code",
      "execution_count": null,
      "metadata": {
        "id": "7esCmaTwY-5w"
      },
      "outputs": [],
      "source": [
        "NUM_CLASSES = 10"
      ]
    },
    {
      "cell_type": "markdown",
      "metadata": {
        "id": "NJv-RneEY-5x"
      },
      "source": [
        "## 1. Prepare the Data <a name=\"prepare\"></a>"
      ]
    },
    {
      "cell_type": "code",
      "execution_count": null,
      "metadata": {
        "id": "qN7LHKDgY-5x"
      },
      "outputs": [],
      "source": [
        "(x_train, y_train), (x_test, y_test) = datasets.cifar10.load_data()"
      ]
    },
    {
      "cell_type": "code",
      "execution_count": null,
      "metadata": {
        "id": "hYFBlQjWY-5y"
      },
      "outputs": [],
      "source": [
        "x_train = x_train.astype(\"float32\") / 255.0\n",
        "x_test = x_test.astype(\"float32\") / 255.0\n",
        "\n",
        "y_train = utils.to_categorical(y_train, NUM_CLASSES)\n",
        "y_test = utils.to_categorical(y_test, NUM_CLASSES)"
      ]
    },
    {
      "cell_type": "code",
      "execution_count": null,
      "metadata": {
        "id": "J5uwg9lhY-5y"
      },
      "outputs": [],
      "source": [
        "display(x_train[:10])\n",
        "print(y_train[:10])"
      ]
    },
    {
      "cell_type": "markdown",
      "metadata": {
        "id": "NbUzWt-lY-5y"
      },
      "source": [
        "## 2. Build the model <a name=\"build\"></a>"
      ]
    },
    {
      "cell_type": "code",
      "execution_count": null,
      "metadata": {
        "id": "b7k8XTIDY-5y"
      },
      "outputs": [],
      "source": [
        "input_layer = layers.Input((32, 32, 3))\n",
        "\n",
        "x = layers.Conv2D(filters=32, kernel_size=3, strides=1, padding=\"same\")(\n",
        "    input_layer\n",
        ")\n",
        "x = layers.BatchNormalization()(x)\n",
        "x = layers.LeakyReLU()(x)\n",
        "\n",
        "x = layers.Conv2D(filters=32, kernel_size=3, strides=2, padding=\"same\")(x)\n",
        "x = layers.BatchNormalization()(x)\n",
        "x = layers.LeakyReLU()(x)\n",
        "\n",
        "x = layers.Conv2D(filters=64, kernel_size=3, strides=1, padding=\"same\")(x)\n",
        "x = layers.BatchNormalization()(x)\n",
        "x = layers.LeakyReLU()(x)\n",
        "\n",
        "x = layers.Conv2D(filters=64, kernel_size=3, strides=2, padding=\"same\")(x)\n",
        "x = layers.BatchNormalization()(x)\n",
        "x = layers.LeakyReLU()(x)\n",
        "\n",
        "x = layers.Flatten()(x)\n",
        "\n",
        "x = layers.Dense(128)(x)\n",
        "x = layers.BatchNormalization()(x)\n",
        "x = layers.LeakyReLU()(x)\n",
        "x = layers.Dropout(rate=0.5)(x)\n",
        "\n",
        "x = layers.Dense(NUM_CLASSES)(x)\n",
        "output_layer = layers.Activation(\"softmax\")(x)\n",
        "\n",
        "model = models.Model(input_layer, output_layer)\n",
        "\n",
        "model.summary()"
      ]
    },
    {
      "cell_type": "markdown",
      "metadata": {
        "tags": [],
        "id": "jSmaGMooY-5z"
      },
      "source": [
        "## 3. Train the model <a name=\"train\"></a>"
      ]
    },
    {
      "cell_type": "code",
      "execution_count": null,
      "metadata": {
        "id": "gKLqsE7hY-5z"
      },
      "outputs": [],
      "source": [
        "opt = optimizers.Adam(learning_rate=0.0005)\n",
        "model.compile(\n",
        "    loss=\"categorical_crossentropy\", optimizer=opt, metrics=[\"accuracy\"]\n",
        ")"
      ]
    },
    {
      "cell_type": "code",
      "execution_count": null,
      "metadata": {
        "tags": [],
        "id": "tq0SX-pVY-50"
      },
      "outputs": [],
      "source": [
        "model.fit(\n",
        "    x_train,\n",
        "    y_train,\n",
        "    batch_size=32,\n",
        "    epochs=10,\n",
        "    shuffle=True,\n",
        "    validation_data=(x_test, y_test),\n",
        ")"
      ]
    },
    {
      "cell_type": "markdown",
      "metadata": {
        "tags": [],
        "id": "bu-ocecoY-50"
      },
      "source": [
        "## 4. Evaluation <a name=\"evaluate\"></a>"
      ]
    },
    {
      "cell_type": "code",
      "execution_count": null,
      "metadata": {
        "id": "Vfh1RfhzY-50"
      },
      "outputs": [],
      "source": [
        "model.evaluate(x_test, y_test, batch_size=1000)"
      ]
    },
    {
      "cell_type": "code",
      "execution_count": null,
      "metadata": {
        "id": "ZlPj_HAxY-51"
      },
      "outputs": [],
      "source": [
        "CLASSES = np.array(\n",
        "    [\n",
        "        \"airplane\",\n",
        "        \"automobile\",\n",
        "        \"bird\",\n",
        "        \"cat\",\n",
        "        \"deer\",\n",
        "        \"dog\",\n",
        "        \"frog\",\n",
        "        \"horse\",\n",
        "        \"ship\",\n",
        "        \"truck\",\n",
        "    ]\n",
        ")\n",
        "\n",
        "preds = model.predict(x_test)\n",
        "preds_single = CLASSES[np.argmax(preds, axis=-1)]\n",
        "actual_single = CLASSES[np.argmax(y_test, axis=-1)]"
      ]
    },
    {
      "cell_type": "code",
      "execution_count": null,
      "metadata": {
        "id": "3_3sShMJY-51"
      },
      "outputs": [],
      "source": [
        "import matplotlib.pyplot as plt\n",
        "\n",
        "n_to_show = 10\n",
        "indices = np.random.choice(range(len(x_test)), n_to_show)\n",
        "\n",
        "fig = plt.figure(figsize=(15, 3))\n",
        "fig.subplots_adjust(hspace=0.4, wspace=0.4)\n",
        "\n",
        "for i, idx in enumerate(indices):\n",
        "    img = x_test[idx]\n",
        "    ax = fig.add_subplot(1, n_to_show, i + 1)\n",
        "    ax.axis(\"off\")\n",
        "    ax.text(\n",
        "        0.5,\n",
        "        -0.35,\n",
        "        \"pred = \" + str(preds_single[idx]),\n",
        "        fontsize=10,\n",
        "        ha=\"center\",\n",
        "        transform=ax.transAxes,\n",
        "    )\n",
        "    ax.text(\n",
        "        0.5,\n",
        "        -0.7,\n",
        "        \"act = \" + str(actual_single[idx]),\n",
        "        fontsize=10,\n",
        "        ha=\"center\",\n",
        "        transform=ax.transAxes,\n",
        "    )\n",
        "    ax.imshow(img)"
      ]
    }
  ],
  "metadata": {
    "kernelspec": {
      "display_name": "Python 3 (ipykernel)",
      "language": "python",
      "name": "python3"
    },
    "language_info": {
      "codemirror_mode": {
        "name": "ipython",
        "version": 3
      },
      "file_extension": ".py",
      "mimetype": "text/x-python",
      "name": "python",
      "nbconvert_exporter": "python",
      "pygments_lexer": "ipython3",
      "version": "3.8.10"
    },
    "vscode": {
      "interpreter": {
        "hash": "31f2aee4e71d21fbe5cf8b01ff0e069b9275f58929596ceb00d14d90e3e16cd6"
      }
    },
    "colab": {
      "provenance": []
    }
  },
  "nbformat": 4,
  "nbformat_minor": 0
}